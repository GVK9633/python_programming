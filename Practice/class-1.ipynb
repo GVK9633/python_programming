{
 "cells": [
  {
   "cell_type": "code",
   "execution_count": 2,
   "metadata": {},
   "outputs": [
    {
     "name": "stdout",
     "output_type": "stream",
     "text": [
      "True\n",
      "True\n"
     ]
    }
   ],
   "source": [
    "numbers=[3,7,10,15]\n",
    "print(all(num >0 for num in numbers))#true\n",
    "print(any(num >10 for num in numbers))#true"
   ]
  },
  {
   "cell_type": "code",
   "execution_count": 3,
   "metadata": {},
   "outputs": [
    {
     "name": "stdout",
     "output_type": "stream",
     "text": [
      "(0, 3)\n",
      "(1, 7)\n",
      "(2, 10)\n",
      "(3, 15)\n"
     ]
    }
   ],
   "source": [
    "for num in enumerate(numbers):\n",
    "    print(num)"
   ]
  },
  {
   "cell_type": "code",
   "execution_count": 7,
   "metadata": {},
   "outputs": [
    {
     "name": "stdout",
     "output_type": "stream",
     "text": [
      "False\n",
      "True\n"
     ]
    }
   ],
   "source": [
    "conditions = [True, True, False]\n",
    "\n",
    "# all() will return False because not all elements are True\n",
    "all_result = all(conditions)  # False\n",
    "print(all_result)\n",
    "\n",
    "# any() will return True because at least one element is True\n",
    "any_result = any(conditions)  # True\n",
    "print(any_result)"
   ]
  }
 ],
 "metadata": {
  "kernelspec": {
   "display_name": "Python 3",
   "language": "python",
   "name": "python3"
  },
  "language_info": {
   "codemirror_mode": {
    "name": "ipython",
    "version": 3
   },
   "file_extension": ".py",
   "mimetype": "text/x-python",
   "name": "python",
   "nbconvert_exporter": "python",
   "pygments_lexer": "ipython3",
   "version": "3.13.2"
  }
 },
 "nbformat": 4,
 "nbformat_minor": 2
}
