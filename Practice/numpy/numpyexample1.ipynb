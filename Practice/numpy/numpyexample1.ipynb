{
 "cells": [
  {
   "cell_type": "code",
   "execution_count": 3,
   "metadata": {},
   "outputs": [
    {
     "name": "stdout",
     "output_type": "stream",
     "text": [
      "Original Array: [1 2 3 4 5]\n",
      "Array multiplied by 2: [ 2  4  6  8 10]\n",
      "Array squared: [ 1  4  9 16 25]\n",
      "Sum of elements: 15\n",
      "Mean of elements: 3.0\n"
     ]
    }
   ],
   "source": [
    "import numpy as np\n",
    "my_array = np.array([1, 2, 3, 4, 5])\n",
    "# Performing some operations\n",
    "print(\"Original Array:\", my_array)\n",
    "print(\"Array multiplied by 2:\", my_array * 2)\n",
    "print(\"Array squared:\", my_array ** 2)\n",
    "print(\"Sum of elements:\", np.sum(my_array))\n",
    "print(\"Mean of elements:\", np.mean(my_array))"
   ]
  }
 ],
 "metadata": {
  "kernelspec": {
   "display_name": "Python 3",
   "language": "python",
   "name": "python3"
  },
  "language_info": {
   "codemirror_mode": {
    "name": "ipython",
    "version": 3
   },
   "file_extension": ".py",
   "mimetype": "text/x-python",
   "name": "python",
   "nbconvert_exporter": "python",
   "pygments_lexer": "ipython3",
   "version": "3.13.2"
  }
 },
 "nbformat": 4,
 "nbformat_minor": 2
}
