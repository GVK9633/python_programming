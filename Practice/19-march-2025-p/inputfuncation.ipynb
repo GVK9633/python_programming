{
 "cells": [
  {
   "cell_type": "code",
   "execution_count": 1,
   "metadata": {},
   "outputs": [
    {
     "name": "stdout",
     "output_type": "stream",
     "text": [
      "User name is:  g\n"
     ]
    }
   ],
   "source": [
    "user_name = input(\"Enter the user name: \")\n",
    "print(\"User name is: \", user_name)"
   ]
  },
  {
   "cell_type": "code",
   "execution_count": 2,
   "metadata": {},
   "outputs": [
    {
     "name": "stdout",
     "output_type": "stream",
     "text": [
      "User name is:  2\n"
     ]
    }
   ],
   "source": [
    "user_name1 =  int( input(\"Enter the user name: \"))\n",
    "print(\"User name is: \", user_name1)"
   ]
  },
  {
   "cell_type": "code",
   "execution_count": 3,
   "metadata": {},
   "outputs": [
    {
     "name": "stdout",
     "output_type": "stream",
     "text": [
      "User name is:  2.0\n"
     ]
    }
   ],
   "source": [
    "user_name1 =  float( input(\"Enter the user name: \"))\n",
    "print(\"User name is: \", user_name1)"
   ]
  },
  {
   "cell_type": "code",
   "execution_count": 4,
   "metadata": {},
   "outputs": [
    {
     "name": "stdout",
     "output_type": "stream",
     "text": [
      "User name is:  ['vijay', 'kumar', 'achary']\n"
     ]
    }
   ],
   "source": [
    "user_name1 =  input(\"Enter the user name: \").split()\n",
    "print(\"User name is: \", user_name1)"
   ]
  },
  {
   "cell_type": "code",
   "execution_count": 6,
   "metadata": {},
   "outputs": [
    {
     "name": "stdout",
     "output_type": "stream",
     "text": [
      "Negative -1\n"
     ]
    }
   ],
   "source": [
    "user_name1 =  int( input(\"Enter a number: \"))\n",
    "if user_name1 > 0:\n",
    "    print(\"Positive\", user_name1)\n",
    "elif user_name1 < 0:\n",
    "    print(\"Negative\", user_name1)\n",
    "else:\n",
    "    print(\"Zero\", user_name1)"
   ]
  },
  {
   "cell_type": "code",
   "execution_count": 7,
   "metadata": {},
   "outputs": [
    {
     "name": "stdout",
     "output_type": "stream",
     "text": [
      "User name is:  VIJAY\n"
     ]
    }
   ],
   "source": [
    "user_name1 =  input(\"Enter the user name: \")\n",
    "print(\"User name is: \", user_name1.upper())"
   ]
  },
  {
   "cell_type": "code",
   "execution_count": 8,
   "metadata": {},
   "outputs": [
    {
     "name": "stdout",
     "output_type": "stream",
     "text": [
      "User name is:  2\n"
     ]
    }
   ],
   "source": [
    "user_name =  input(\"Enter the user name: \")\n",
    "vowels = \"aeiou\"\n",
    "count = sum(1 for char in user_name if char in vowels)\n",
    "print(\"User name is: \", count)\n"
   ]
  },
  {
   "cell_type": "code",
   "execution_count": 2,
   "metadata": {},
   "outputs": [
    {
     "name": "stdout",
     "output_type": "stream",
     "text": [
      "vowel count is:  2\n"
     ]
    }
   ],
   "source": [
    "user_name =  input(\"Enter the user name: \")\n",
    "count = 0\n",
    "for char in user_name:\n",
    "    if char in \"aeiou\":\n",
    "        count += 1\n",
    "print(\"vowel count is: \", count)"
   ]
  },
  {
   "cell_type": "code",
   "execution_count": 5,
   "metadata": {},
   "outputs": [
    {
     "name": "stdout",
     "output_type": "stream",
     "text": [
      "Odd\n"
     ]
    }
   ],
   "source": [
    "number = int (input(\"Enter a number: \"))\n",
    "if number%2 == 0:\n",
    "    print(\"Even\")\n",
    "else:\n",
    "    print(\"Odd\")"
   ]
  }
 ],
 "metadata": {
  "kernelspec": {
   "display_name": "Python 3",
   "language": "python",
   "name": "python3"
  },
  "language_info": {
   "codemirror_mode": {
    "name": "ipython",
    "version": 3
   },
   "file_extension": ".py",
   "mimetype": "text/x-python",
   "name": "python",
   "nbconvert_exporter": "python",
   "pygments_lexer": "ipython3",
   "version": "3.13.2"
  }
 },
 "nbformat": 4,
 "nbformat_minor": 2
}
