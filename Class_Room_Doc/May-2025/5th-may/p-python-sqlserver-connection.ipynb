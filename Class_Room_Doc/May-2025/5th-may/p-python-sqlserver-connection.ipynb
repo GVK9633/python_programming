{
 "cells": [
  {
   "cell_type": "code",
   "execution_count": 5,
   "id": "b7490dcd",
   "metadata": {},
   "outputs": [
    {
     "name": "stdout",
     "output_type": "stream",
     "text": [
      "('vijay', 12, 'hyd', 78, 456)\n",
      "('kumar', 40, 'bang', 66, 123)\n",
      "('cathy', 41, 'chen', 70, 123)\n",
      "('alex', 45, 'delhi', 79, 123)\n",
      "('dolly', 48, 'pune', 67, 123)\n",
      "('chancy', 78, 'mumbai', 34, 123)\n"
     ]
    },
    {
     "name": "stderr",
     "output_type": "stream",
     "text": [
      "<>:6: SyntaxWarning: invalid escape sequence '\\S'\n",
      "<>:6: SyntaxWarning: invalid escape sequence '\\S'\n",
      "C:\\Users\\RENUKA\\AppData\\Local\\Temp\\ipykernel_11108\\3397186970.py:6: SyntaxWarning: invalid escape sequence '\\S'\n",
      "  server = 'LAPTOP-D9941JE4\\SQLEXPRESS'\n"
     ]
    }
   ],
   "source": [
    "# pip install pyodbc\n",
    "\n",
    "import pyodbc\n",
    "\n",
    "# Define connection parameters\n",
    "server = 'LAPTOP-D9941JE4\\SQLEXPRESS'\n",
    "database = 'NIT'\n",
    "# username = 'YOUR_USERNAME'\n",
    "# password = 'YOUR_PASSWORD'\n",
    "\n",
    "# Establish connection\n",
    "# conn = pyodbc.connect(f'DRIVER={{SQL Server}};SERVER={server};DATABASE={database};UID={username};PWD={password}')\n",
    "\n",
    "conn = pyodbc.connect(f'DRIVER={{SQL Server}};SERVER={server};DATABASE={database};Trusted_Connection=yes;')\n",
    "\n",
    "# Create a cursor object\n",
    "cursor = conn.cursor()\n",
    "\n",
    "# Execute a simple query\n",
    "cursor.execute(\"select * from student\")\n",
    "rows = cursor.fetchall()\n",
    "\n",
    "# Print results\n",
    "for row in rows:\n",
    "    print(row)\n",
    "\n",
    "# Close connection\n",
    "conn.close()\n"
   ]
  },
  {
   "cell_type": "code",
   "execution_count": null,
   "id": "31fd84f9",
   "metadata": {},
   "outputs": [],
   "source": []
  },
  {
   "cell_type": "code",
   "execution_count": null,
   "metadata": {},
   "outputs": [],
   "source": []
  }
 ],
 "metadata": {
  "kernelspec": {
   "display_name": "Python 3",
   "language": "python",
   "name": "python3"
  },
  "language_info": {
   "codemirror_mode": {
    "name": "ipython",
    "version": 3
   },
   "file_extension": ".py",
   "mimetype": "text/x-python",
   "name": "python",
   "nbconvert_exporter": "python",
   "pygments_lexer": "ipython3",
   "version": "3.13.2"
  }
 },
 "nbformat": 4,
 "nbformat_minor": 5
}
