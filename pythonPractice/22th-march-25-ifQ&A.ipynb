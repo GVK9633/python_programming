{
 "cells": [
  {
   "cell_type": "markdown",
   "metadata": {},
   "source": [
    "Easy Level (1-20)\n",
    "1.Write a program to check if a number is even or odd.\n",
    "2.Check if a person is eligible to vote (age 18 or above).\n",
    "3.Determine if a given year is a leap year or not.\n",
    "4.Check if a number is positive, negative, or zero.\n",
    "5.Write a program to find the greatest of two numbers.\n",
    "6.Determine if a number is a multiple of 5.\n",
    "7.Check if a character is a vowel or consonant.\n",
    "8.Determine if a person is eligible for a senior citizen discount (age 60+).\n",
    "9.Write a program to check if a number is a single-digit number.\n",
    "10.Print \"Good Morning\" if the time is before 12 PM, otherwise print \"Good Afternoon\".\n",
    "11.Check if a string is empty or not.\n",
    "12.Verify if a number is a perfect square.\n",
    "13.Determine if a number is between 1 and 100.\n",
    "14.Print \"Weekend\" if the day is Saturday or Sunday; otherwise, print \"Weekday\".\n",
    "15.Find if a given number is exactly divisible by both 3 and 7.\n",
    "16.Check if the sum of two numbers is greater than 100.\n",
    "17.Write a program to find the minimum of two numbers.\n",
    "18.Check if a number is divisible by 2 but not by 3.\n",
    "19.Determine if a given alphabet is uppercase or lowercase.\n",
    "20.Check if a triangle is valid given three side lengths (sum of any two sides must be greater than the third).Medium Level (21-40)\n"
   ]
  },
  {
   "cell_type": "code",
   "execution_count": 2,
   "metadata": {},
   "outputs": [
    {
     "name": "stdout",
     "output_type": "stream",
     "text": [
      "The number is odd.\n"
     ]
    }
   ],
   "source": [
    "number = int(input(\"Enter a number: \"))\n",
    "if number % 2 == 0:\n",
    "    print(\"The number is even.\")\n",
    "else:\n",
    "    print(\"The number is odd.\")"
   ]
  },
  {
   "cell_type": "code",
   "execution_count": null,
   "metadata": {},
   "outputs": [
    {
     "name": "stdout",
     "output_type": "stream",
     "text": [
      "You are not eligible to vote.\n"
     ]
    }
   ],
   "source": [
    "# 2.Check if a person is eligible to vote (age 18 or above).\n",
    "age = int(input(\"Enter your age: \"))\n",
    "if age >= 18:\n",
    "    print(\"You are eligible to vote.\")\n",
    "else:\n",
    "    print(\"You are not eligible to vote.\")"
   ]
  },
  {
   "cell_type": "code",
   "execution_count": 7,
   "metadata": {},
   "outputs": [
    {
     "name": "stdout",
     "output_type": "stream",
     "text": [
      "The year is a leap year.\n"
     ]
    }
   ],
   "source": [
    "# 3.Determine if a given year is a leap year or not.\n",
    "year = int(input(\"Enter a year: \"))\n",
    "if (year%4 == 0 and year %100 != 0) or (year%400 == 0):\n",
    "    print(\"The year is a leap year.\")\n",
    "else:\n",
    "    print(\"The year is not a leap year.\")"
   ]
  },
  {
   "cell_type": "code",
   "execution_count": 11,
   "metadata": {},
   "outputs": [
    {
     "name": "stdout",
     "output_type": "stream",
     "text": [
      "the number is zero.\n"
     ]
    }
   ],
   "source": [
    "# 4.Check if a number is positive, negative, or zero.\n",
    "number = int(input(\"Enter a number: \"))\n",
    "if number >0:\n",
    "    print(\"the number is positive.\")\n",
    "elif number < 0:\n",
    "    print(\"the number is negative.\")\n",
    "else:\n",
    "    print(\"the number is zero.\")"
   ]
  },
  {
   "cell_type": "code",
   "execution_count": null,
   "metadata": {},
   "outputs": [
    {
     "name": "stdout",
     "output_type": "stream",
     "text": [
      "The greatest number is 15\n"
     ]
    }
   ],
   "source": [
    "# 5.Write a program to find the greatest of two numbers.\n",
    "num = int(input(\"Enter a number: \"))\n",
    "num1 = int(input(\"Enter another number: \"))\n",
    "if num >num1:\n",
    "    print(\"The greatest number is\", num)\n",
    "else:\n",
    "    print(\"The greatest number is\", num1)"
   ]
  },
  {
   "cell_type": "code",
   "execution_count": 13,
   "metadata": {},
   "outputs": [
    {
     "name": "stdout",
     "output_type": "stream",
     "text": [
      "The number is not a multiple of 5.\n"
     ]
    }
   ],
   "source": [
    "# 6.Determine if a number is a multiple of 5.\n",
    "number  = int(input(\"Enter a number: \"))\n",
    "if number % 5 ==0:\n",
    "    print(\"The number is a multiple of 5.\")\n",
    "else:\n",
    "    print(\"The number is not a multiple of 5.\")"
   ]
  },
  {
   "cell_type": "code",
   "execution_count": 15,
   "metadata": {},
   "outputs": [
    {
     "name": "stdout",
     "output_type": "stream",
     "text": [
      "You are eligible for a senior citizen discount.\n"
     ]
    }
   ],
   "source": [
    "# 8.Determine if a person is eligible for a senior citizen discount (age 60+).\n",
    "age = int(input(\"Enter your age: \"))\n",
    "if age>=60:\n",
    "    print(\"You are eligible for a senior citizen discount.\")\n",
    "else:\n",
    "    print(\"You are not eligible for a senior citizen discount.\")\n"
   ]
  },
  {
   "cell_type": "code",
   "execution_count": 17,
   "metadata": {},
   "outputs": [
    {
     "name": "stdout",
     "output_type": "stream",
     "text": [
      "The number is not a single-digit number.\n"
     ]
    }
   ],
   "source": [
    "#9.Write a program to check if a number is a single-digit number.\n",
    "number = int(input(\"Enter a number: \"))\n",
    "if(number >= 0 and number <=9):\n",
    "    print(\"The number is a single-digit number.\")\n",
    "else:\n",
    "        print(\"The number is not a single-digit number.\")"
   ]
  },
  {
   "cell_type": "code",
   "execution_count": null,
   "metadata": {},
   "outputs": [],
   "source": [
    "number = int(input(\"Enter a number: \"))\n",
    "if(number >)"
   ]
  },
  {
   "cell_type": "code",
   "execution_count": null,
   "metadata": {},
   "outputs": [],
   "source": []
  },
  {
   "cell_type": "code",
   "execution_count": null,
   "metadata": {},
   "outputs": [],
   "source": []
  },
  {
   "cell_type": "code",
   "execution_count": null,
   "metadata": {},
   "outputs": [],
   "source": []
  },
  {
   "cell_type": "code",
   "execution_count": null,
   "metadata": {},
   "outputs": [],
   "source": []
  },
  {
   "cell_type": "code",
   "execution_count": null,
   "metadata": {},
   "outputs": [],
   "source": []
  },
  {
   "cell_type": "code",
   "execution_count": null,
   "metadata": {},
   "outputs": [],
   "source": []
  }
 ],
 "metadata": {
  "kernelspec": {
   "display_name": "Python 3",
   "language": "python",
   "name": "python3"
  },
  "language_info": {
   "codemirror_mode": {
    "name": "ipython",
    "version": 3
   },
   "file_extension": ".py",
   "mimetype": "text/x-python",
   "name": "python",
   "nbconvert_exporter": "python",
   "pygments_lexer": "ipython3",
   "version": "3.13.2"
  }
 },
 "nbformat": 4,
 "nbformat_minor": 2
}
